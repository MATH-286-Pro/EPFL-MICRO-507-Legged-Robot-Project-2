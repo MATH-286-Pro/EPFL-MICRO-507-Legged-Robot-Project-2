{
 "cells": [
  {
   "cell_type": "markdown",
   "metadata": {},
   "source": [
    "## **hopf_network.py**"
   ]
  },
  {
   "cell_type": "code",
   "execution_count": 4,
   "metadata": {},
   "outputs": [],
   "source": [
    "# 设置步态矩阵\n",
    "def _set_gait(self,gait):\n",
    "\n",
    "    # self.PHI_trot = np.zeros((4,4))\n",
    "    # self.PHI_walk = np.zeros((4,4))\n",
    "    # self.PHI_bound = np.zeros((4,4))\n",
    "    # self.PHI_pace = np.zeros((4,4))\n",
    "\n",
    "    pass"
   ]
  },
  {
   "cell_type": "markdown",
   "metadata": {},
   "source": [
    "<div style=\"text-align: center;\">\n",
    "  <img src=\"Pictures/Equation8+9.png\" width=\"60%\">\n",
    "</div>\n"
   ]
  },
  {
   "cell_type": "code",
   "execution_count": null,
   "metadata": {},
   "outputs": [],
   "source": [
    "def update(self):\n",
    "\n",
    "    #0000FF TODO: map CPG variables to Cartesian foot xz positions (Equations 8, 9) \n",
    "    # x = np.zeros(4)\n",
    "    # z = np.zeros(4)\n",
    "    \n",
    "    pass    "
   ]
  },
  {
   "cell_type": "markdown",
   "metadata": {},
   "source": [
    "## **run_cpg.py**"
   ]
  },
  {
   "cell_type": "markdown",
   "metadata": {},
   "source": [
    "$$p = J q $$\n",
    "\n",
    "$$\\dot p = v = J \\dot q$$\n",
    "\n"
   ]
  }
 ],
 "metadata": {
  "kernelspec": {
   "display_name": "Python 3",
   "language": "python",
   "name": "python3"
  },
  "language_info": {
   "codemirror_mode": {
    "name": "ipython",
    "version": 3
   },
   "file_extension": ".py",
   "mimetype": "text/x-python",
   "name": "python",
   "nbconvert_exporter": "python",
   "pygments_lexer": "ipython3",
   "version": "3.12.6"
  }
 },
 "nbformat": 4,
 "nbformat_minor": 2
}
