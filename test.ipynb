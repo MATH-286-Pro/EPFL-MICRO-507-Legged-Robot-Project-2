{
 "cells": [
  {
   "cell_type": "code",
   "execution_count": 1,
   "metadata": {},
   "outputs": [
    {
     "name": "stdout",
     "output_type": "stream",
     "text": [
      "CUDA is not available. No GPU detected.\n"
     ]
    }
   ],
   "source": [
    "import torch\n",
    "\n",
    "# 检查是否安装了GPU支持\n",
    "if torch.cuda.is_available():\n",
    "    print(\"CUDA is available. GPU device(s) detected.\")\n",
    "    print(f\"Number of GPU devices: {torch.cuda.device_count()}\")\n",
    "    \n",
    "    # 获取每个GPU的名称\n",
    "    for i in range(torch.cuda.device_count()):\n",
    "        print(f\"Device {i}: {torch.cuda.get_device_name(i)}\")\n",
    "else:\n",
    "    print(\"CUDA is not available. No GPU detected.\")"
   ]
  }
 ],
 "metadata": {
  "kernelspec": {
   "display_name": "quad_env",
   "language": "python",
   "name": "python3"
  },
  "language_info": {
   "codemirror_mode": {
    "name": "ipython",
    "version": 3
   },
   "file_extension": ".py",
   "mimetype": "text/x-python",
   "name": "python",
   "nbconvert_exporter": "python",
   "pygments_lexer": "ipython3",
   "version": "3.8.0"
  }
 },
 "nbformat": 4,
 "nbformat_minor": 2
}
