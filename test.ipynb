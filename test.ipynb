{
 "cells": [
  {
   "cell_type": "code",
   "execution_count": 1,
   "metadata": {},
   "outputs": [
    {
     "name": "stdout",
     "output_type": "stream",
     "text": [
      "CUDA is not available. No GPU detected.\n"
     ]
    }
   ],
   "source": [
    "import torch\n",
    "\n",
    "# 检查是否安装了GPU支持\n",
    "if torch.cuda.is_available():\n",
    "    print(\"CUDA is available. GPU device(s) detected.\")\n",
    "    print(f\"Number of GPU devices: {torch.cuda.device_count()}\")\n",
    "    \n",
    "    # 获取每个GPU的名称\n",
    "    for i in range(torch.cuda.device_count()):\n",
    "        print(f\"Device {i}: {torch.cuda.get_device_name(i)}\")\n",
    "else:\n",
    "    print(\"CUDA is not available. No GPU detected.\")"
   ]
  },
  {
   "cell_type": "code",
   "execution_count": 2,
   "metadata": {},
   "outputs": [
    {
     "name": "stdout",
     "output_type": "stream",
     "text": [
      "[1, 2, 3]\n",
      "[2 6]\n"
     ]
    }
   ],
   "source": [
    "import numpy as np\n",
    "a = (1,2,3)\n",
    "b = np.array([1,2])\n",
    "c = (1,2,[1,2,3])\n",
    "# print(np.concatenate((a,b,c)))\n",
    "print(c[2])\n",
    "d = np.array([2,3])\n",
    "print(b*d)"
   ]
  },
  {
   "cell_type": "code",
   "execution_count": 4,
   "metadata": {},
   "outputs": [
    {
     "name": "stdout",
     "output_type": "stream",
     "text": [
      "(2, 30)\n",
      "(2, 28)\n"
     ]
    }
   ],
   "source": [
    "a = np.array([[-0.99, -0.99, -0.99, -0.99, -4.99, -0.99, -4.99, -9.99, -9.99, -9.99, 0.01, 0.01, 0.01, 0.01, 1.01, 1.01, 1.01, 1.01, 0.01, 0.01, 0.01, 0.01, -4.99, -4.99, -4.99, -4.99, -4.99, -4.99, -4.99, -4.99],\n",
    "\t\t\t   [1.01, 1.01, 1.01, 1.01, 5.01, 1.01, 5.01, 10, 10, 10, 1.01, 1.01, 1.01, 1.01, 2.01, 2.01, 2.01, 2.01, 6.29, 6.29, 6.29, 6.29, 5.01, 5.01, 5.01, 5.01, 5.01, 5.01, 5.01, 5.01]])\n",
    "print(a.shape)\n",
    "b = [[-0.21, 0.375, -1.98, -0.21, 0.375, -1.98, -0.21, 0.375, -1.98, -0.21, 0.375, -1.98, -21, -21, -21, -21, -21, -21, -21, -21, -21, -21, -21, -21, -1.01, -1.01, -1.01, -1.01],\n",
    "\t [0.21, 1.2, -1.16, 0.21, 1.2, -1.16, 0.21, 1.2, -1.16, 0.21, 1.2, -1.16, 21, 21, 21, 21, 21, 21, 21, 21, 21, 21, 21, 21, 1.01, 1.01, 1.01, 1.01]]\n",
    "print(np.array(b).shape)"
   ]
  }
 ],
 "metadata": {
  "kernelspec": {
   "display_name": "quad_env",
   "language": "python",
   "name": "python3"
  },
  "language_info": {
   "codemirror_mode": {
    "name": "ipython",
    "version": 3
   },
   "file_extension": ".py",
   "mimetype": "text/x-python",
   "name": "python",
   "nbconvert_exporter": "python",
   "pygments_lexer": "ipython3",
   "version": "3.8.0"
  }
 },
 "nbformat": 4,
 "nbformat_minor": 2
}
